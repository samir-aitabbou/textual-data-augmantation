{
 "cells": [
  {
   "cell_type": "markdown",
   "metadata": {},
   "source": [
    "# AUGLY\n",
    "Facebook vient de publier le package AugLy dans le domaine public. La bibliothèque AugLy est divisée en quatre sous-bibliothèques, chacune pour différents types de modalités de données (audio, images, vidéos et textes)."
   ]
  },
  {
   "cell_type": "code",
   "execution_count": 1,
   "metadata": {},
   "outputs": [
    {
     "name": "stdout",
     "output_type": "stream",
     "text": [
      "Requirement already satisfied: augly in c:\\users\\samir\\anaconda3\\lib\\site-packages (1.0.0)\n",
      "Requirement already satisfied: iopath>=0.1.8 in c:\\users\\samir\\anaconda3\\lib\\site-packages (from augly) (0.1.10)\n",
      "Requirement already satisfied: python-magic>=0.4.22 in c:\\users\\samir\\anaconda3\\lib\\site-packages (from augly) (0.4.27)\n",
      "Requirement already satisfied: regex>=2021.4.4 in c:\\users\\samir\\anaconda3\\lib\\site-packages (from augly) (2021.8.3)\n",
      "Requirement already satisfied: typing-extensions in c:\\users\\samir\\anaconda3\\lib\\site-packages (from iopath>=0.1.8->augly) (3.10.0.2)\n",
      "Requirement already satisfied: tqdm in c:\\users\\samir\\anaconda3\\lib\\site-packages (from iopath>=0.1.8->augly) (4.62.3)\n",
      "Requirement already satisfied: portalocker in c:\\users\\samir\\anaconda3\\lib\\site-packages (from iopath>=0.1.8->augly) (2.5.1)\n",
      "Requirement already satisfied: pywin32>=226 in c:\\users\\samir\\anaconda3\\lib\\site-packages (from portalocker->iopath>=0.1.8->augly) (228)\n",
      "Requirement already satisfied: colorama in c:\\users\\samir\\anaconda3\\lib\\site-packages (from tqdm->iopath>=0.1.8->augly) (0.4.4)\n"
     ]
    }
   ],
   "source": [
    "! pip install -U augly"
   ]
  },
  {
   "cell_type": "code",
   "execution_count": null,
   "metadata": {},
   "outputs": [],
   "source": []
  },
  {
   "cell_type": "code",
   "execution_count": 3,
   "metadata": {},
   "outputs": [],
   "source": []
  },
  {
   "cell_type": "code",
   "execution_count": 2,
   "metadata": {},
   "outputs": [
    {
     "name": "stdout",
     "output_type": "stream",
     "text": [
      "Collecting python-magic-bin==0.4.14\n",
      "  Downloading python_magic_bin-0.4.14-py2.py3-none-win_amd64.whl (409 kB)\n",
      "     ------------------------------------ 409.3/409.3 kB 194.9 kB/s eta 0:00:00\n",
      "Installing collected packages: python-magic-bin\n",
      "Successfully installed python-magic-bin-0.4.14\n",
      "Note: you may need to restart the kernel to use updated packages.\n"
     ]
    }
   ],
   "source": [
    "pip install python-magic-bin==0.4.14"
   ]
  },
  {
   "cell_type": "code",
   "execution_count": 5,
   "metadata": {},
   "outputs": [
    {
     "data": {
      "text/plain": [
       "\"\\nThe available funcations\\n 'change_case',\\n 'contractions',\\n 'insert_punctuation_chars',\\n 'insert_whitespace_chars',\\n 'insert_zero_width_chars',\\n 'merge_words',\\n 'replace_bidirectional',\\n 'replace_fun_fonts',\\n 'replace_similar_chars',\\n 'replace_similar_unicode_chars',\\n 'replace_upside_down',\\n 'replace_words',\\n 'simulate_typos',\\n 'split_words',\\n 'swap_gendered_words',\\n 'transforms',\\n 'utils'\\n\""
      ]
     },
     "execution_count": 5,
     "metadata": {},
     "output_type": "execute_result"
    }
   ],
   "source": [
    "\"\"\"\n",
    "The available funcations\n",
    " 'change_case',\n",
    " 'contractions',\n",
    " 'insert_punctuation_chars',\n",
    " 'insert_whitespace_chars',\n",
    " 'insert_zero_width_chars',\n",
    " 'merge_words',\n",
    " 'replace_bidirectional',\n",
    " 'replace_fun_fonts',\n",
    " 'replace_similar_chars',\n",
    " 'replace_similar_unicode_chars',\n",
    " 'replace_upside_down',\n",
    " 'replace_words',\n",
    " 'simulate_typos',\n",
    " 'split_words',\n",
    " 'swap_gendered_words',\n",
    " 'transforms',\n",
    " 'utils'\n",
    "\"\"\""
   ]
  },
  {
   "cell_type": "code",
   "execution_count": 11,
   "metadata": {},
   "outputs": [],
   "source": [
    "# import augly.text as textaugs\n",
    "\n",
    "# message = 'Hi everyn, I hope yu are habing a great time herre'\n",
    "# corrected = textaugs.simulate_typos(message)\n",
    " \n",
    "# print(corrected)"
   ]
  },
  {
   "cell_type": "code",
   "execution_count": 4,
   "metadata": {},
   "outputs": [
    {
     "data": {
      "text/plain": [
       "['THE QUICK brown fox JUMPS over THE LAZY dog.']"
      ]
     },
     "execution_count": 4,
     "metadata": {},
     "output_type": "execute_result"
    }
   ],
   "source": [
    "import augly.text as textaugs\n",
    "\n",
    "TEST_TEXT = \"The quick brown fox jumps over the lazy dog.\"\n",
    "textaugs.change_case(TEST_TEXT)\n",
    "# ['THE QUICK brown fox JUMPS over THE LAZY dog.']"
   ]
  },
  {
   "cell_type": "code",
   "execution_count": 5,
   "metadata": {},
   "outputs": [
    {
     "data": {
      "text/plain": [
       "['The qu|c|< brown fox jumps over t/-/e lazy d()g.']"
      ]
     },
     "execution_count": 5,
     "metadata": {},
     "output_type": "execute_result"
    }
   ],
   "source": [
    "import augly.text as textaugs\n",
    "\n",
    "TEST_TEXT = \"The quick brown fox jumps over the lazy dog.\"\n",
    "textaugs.replace_similar_chars(TEST_TEXT)\n",
    "# Th3 quick brown fox jumps over the lazy do9."
   ]
  },
  {
   "cell_type": "code",
   "execution_count": 6,
   "metadata": {},
   "outputs": [
    {
     "data": {
      "text/plain": [
       "['T-h-e- -q-u-i-c-k- -b-r-o-w-n- -f-o-x- -j-u-m-p-s- -o-v-e-r- -t-h-e- -l-a-z-y- -d-o-g-.']"
      ]
     },
     "execution_count": 6,
     "metadata": {},
     "output_type": "execute_result"
    }
   ],
   "source": [
    "import augly.text as textaugs\n",
    "\n",
    "TEST_TEXT = \"The quick brown fox jumps over the lazy dog.\"\n",
    "textaugs.insert_punctuation_chars(TEST_TEXT)\n",
    "# ['T.h.e. .q.u.i.c.k. .b.r.o.w.n. .f.o.x. .j.u.m.p.s. .o.v.e.r. .t.h.e. .l.a.z.y. .d.o.g..']"
   ]
  },
  {
   "cell_type": "code",
   "execution_count": 7,
   "metadata": {},
   "outputs": [
    {
     "data": {
      "text/plain": [
       "['The quick brownfox jumps over the lazydog.']"
      ]
     },
     "execution_count": 7,
     "metadata": {},
     "output_type": "execute_result"
    }
   ],
   "source": [
    "import augly.text as textaugs\n",
    "\n",
    "TEST_TEXT = \"The quick brown fox jumps over the lazy dog.\"\n",
    "textaugs.merge_words(TEST_TEXT)\n",
    "# The quickbrown foxjumps over the lazy dog."
   ]
  },
  {
   "cell_type": "code",
   "execution_count": 8,
   "metadata": {},
   "outputs": [
    {
     "data": {
      "text/plain": [
       "['\\u202e.god yzal eht revo spmuj xof nworb kciuq ehT\\u202c']"
      ]
     },
     "execution_count": 8,
     "metadata": {},
     "output_type": "execute_result"
    }
   ],
   "source": [
    "import augly.text as textaugs\n",
    "\n",
    "TEST_TEXT = \"The quick brown fox jumps over the lazy dog.\"\n",
    "textaugs.replace_bidirectional(TEST_TEXT)\n",
    "# ['\\u202e.god yzal eht revo spmuj xof nworb kciuq ehT\\u202c']"
   ]
  },
  {
   "cell_type": "code",
   "execution_count": 9,
   "metadata": {},
   "outputs": [
    {
     "data": {
      "text/plain": [
       "['The quick brown fox jumps over the lazy dog.']"
      ]
     },
     "execution_count": 9,
     "metadata": {},
     "output_type": "execute_result"
    }
   ],
   "source": [
    "import augly.text as textaugs\n",
    "\n",
    "TEST_TEXT = \"The quick brown fox jumps over the lazy dog.\"\n",
    "textaugs.replace_fun_fonts(TEST_TEXT)\n",
    "# The quick brown fox jumps over the lazy dog."
   ]
  },
  {
   "cell_type": "code",
   "execution_count": 10,
   "metadata": {},
   "outputs": [
    {
     "data": {
      "text/plain": [
       "['The qui ck brown fox jumps o ver the l azy dog.']"
      ]
     },
     "execution_count": 10,
     "metadata": {},
     "output_type": "execute_result"
    }
   ],
   "source": [
    "import augly.text as textaugs\n",
    "\n",
    "TEST_TEXT = \"The quick brown fox jumps over the lazy dog.\"\n",
    "textaugs.split_words(TEST_TEXT)\n",
    "# The qui ck br own fox jumps over the l azy dog."
   ]
  },
  {
   "cell_type": "code",
   "execution_count": null,
   "metadata": {},
   "outputs": [],
   "source": []
  }
 ],
 "metadata": {
  "interpreter": {
   "hash": "85ab11090a32b58d1dba88bd22dc30d9d16814845c03675a7b99eed0df35fc67"
  },
  "kernelspec": {
   "display_name": "Python 3 (ipykernel)",
   "language": "python",
   "name": "python3"
  },
  "language_info": {
   "codemirror_mode": {
    "name": "ipython",
    "version": 3
   },
   "file_extension": ".py",
   "mimetype": "text/x-python",
   "name": "python",
   "nbconvert_exporter": "python",
   "pygments_lexer": "ipython3",
   "version": "3.9.7"
  }
 },
 "nbformat": 4,
 "nbformat_minor": 2
}
