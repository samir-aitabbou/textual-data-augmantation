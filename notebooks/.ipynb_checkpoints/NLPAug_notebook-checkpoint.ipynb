{
 "cells": [
  {
   "cell_type": "markdown",
   "metadata": {},
   "source": [
    "# NLPAug"
   ]
  },
  {
   "cell_type": "code",
   "execution_count": 2,
   "metadata": {},
   "outputs": [
    {
     "name": "stdout",
     "output_type": "stream",
     "text": [
      "Collecting nlpaug\n",
      "  Downloading nlpaug-1.1.11-py3-none-any.whl (410 kB)\n",
      "     -------------------------------------- 410.5/410.5 kB 2.3 MB/s eta 0:00:00\n",
      "Requirement already satisfied: pandas>=1.2.0 in c:\\users\\samir\\anaconda3\\lib\\site-packages (from nlpaug) (1.3.4)\n",
      "Requirement already satisfied: requests>=2.22.0 in c:\\users\\samir\\anaconda3\\lib\\site-packages (from nlpaug) (2.26.0)\n",
      "Requirement already satisfied: gdown>=4.0.0 in c:\\users\\samir\\anaconda3\\lib\\site-packages (from nlpaug) (4.4.0)\n",
      "Requirement already satisfied: numpy>=1.16.2 in c:\\users\\samir\\anaconda3\\lib\\site-packages (from nlpaug) (1.22.4)\n",
      "Requirement already satisfied: beautifulsoup4 in c:\\users\\samir\\anaconda3\\lib\\site-packages (from gdown>=4.0.0->nlpaug) (4.10.0)\n",
      "Requirement already satisfied: tqdm in c:\\users\\samir\\anaconda3\\lib\\site-packages (from gdown>=4.0.0->nlpaug) (4.62.3)\n",
      "Requirement already satisfied: six in c:\\users\\samir\\anaconda3\\lib\\site-packages (from gdown>=4.0.0->nlpaug) (1.16.0)\n",
      "Requirement already satisfied: filelock in c:\\users\\samir\\anaconda3\\lib\\site-packages (from gdown>=4.0.0->nlpaug) (3.3.1)\n",
      "Requirement already satisfied: python-dateutil>=2.7.3 in c:\\users\\samir\\anaconda3\\lib\\site-packages (from pandas>=1.2.0->nlpaug) (2.8.2)\n",
      "Requirement already satisfied: pytz>=2017.3 in c:\\users\\samir\\anaconda3\\lib\\site-packages (from pandas>=1.2.0->nlpaug) (2021.3)\n",
      "Requirement already satisfied: urllib3<1.27,>=1.21.1 in c:\\users\\samir\\anaconda3\\lib\\site-packages (from requests>=2.22.0->nlpaug) (1.26.7)\n",
      "Requirement already satisfied: certifi>=2017.4.17 in c:\\users\\samir\\anaconda3\\lib\\site-packages (from requests>=2.22.0->nlpaug) (2021.10.8)\n",
      "Requirement already satisfied: charset-normalizer~=2.0.0 in c:\\users\\samir\\anaconda3\\lib\\site-packages (from requests>=2.22.0->nlpaug) (2.0.4)\n",
      "Requirement already satisfied: idna<4,>=2.5 in c:\\users\\samir\\anaconda3\\lib\\site-packages (from requests>=2.22.0->nlpaug) (2.10)\n",
      "Requirement already satisfied: soupsieve>1.2 in c:\\users\\samir\\anaconda3\\lib\\site-packages (from beautifulsoup4->gdown>=4.0.0->nlpaug) (2.2.1)\n",
      "Requirement already satisfied: PySocks!=1.5.7,>=1.5.6 in c:\\users\\samir\\anaconda3\\lib\\site-packages (from requests>=2.22.0->nlpaug) (1.7.1)\n",
      "Requirement already satisfied: colorama in c:\\users\\samir\\anaconda3\\lib\\site-packages (from tqdm->gdown>=4.0.0->nlpaug) (0.4.4)\n",
      "Installing collected packages: nlpaug\n",
      "Successfully installed nlpaug-1.1.11\n",
      "Note: you may need to restart the kernel to use updated packages.\n"
     ]
    }
   ],
   "source": [
    "pip install nlpaug\n"
   ]
  },
  {
   "cell_type": "code",
   "execution_count": 7,
   "metadata": {},
   "outputs": [],
   "source": [
    "import nlpaug.augmenter.sentence as nas\n",
    "import nlpaug.augmenter.word as naw\n",
    "#Augmenter qui applique une signification sémantique basée sur une entrée textuelle."
   ]
  },
  {
   "cell_type": "markdown",
   "metadata": {},
   "source": [
    "### ContextualWordEmbsAug"
   ]
  },
  {
   "cell_type": "code",
   "execution_count": 18,
   "metadata": {},
   "outputs": [
    {
     "name": "stdout",
     "output_type": "stream",
     "text": [
      "ORIGINAL TEXT:  The quick brown fox jumps over the lazy dog .\n",
      "AUGMENTED TEXT WITH INSERTION:  ['the super quick brown fox who jumps first over the lazy dog.']\n",
      "\n",
      "\n",
      "ORIGINAL TEXT:  The quick brown fox jumps over the lazy dog .\n",
      "AUGMENTED TEXT WITH SUBSTITUTION:  ['the scared little girl jumps over the lazy dog.']\n"
     ]
    }
   ],
   "source": [
    "\"\"\"\n",
    "    action = insert : un nouveau mot sera injecté à une position aléatoire en fonction\n",
    "      du calcul des incorporations de mots contextuels.\n",
    "    action = substitut : le mot sera remplacé en fonction du calcul des plongements contextuels\"\"\"\n",
    "\n",
    "aug = naw.ContextualWordEmbsAug(\n",
    "model_path='bert-base-uncased', action=\"insert\") \n",
    "aug_1 = naw.ContextualWordEmbsAug(\n",
    "    model_path='bert-base-uncased', action=\"substitute\") \n",
    "\n",
    "text = 'The quick brown fox jumps over the lazy dog .'\n",
    "\n",
    "augmented_text = aug.augment(text)\n",
    "print(\"ORIGINAL TEXT: \", text)\n",
    "print(\"AUGMENTED TEXT WITH INSERTION: \",augmented_text)\n",
    "\n",
    "print(\"\\n\")\n",
    "\n",
    "augmented_text_2 = aug_1.augment(text)\n",
    "print(\"ORIGINAL TEXT: \", text)\n",
    "print(\"AUGMENTED TEXT WITH SUBSTITUTION: \",augmented_text_2)"
   ]
  },
  {
   "cell_type": "markdown",
   "metadata": {},
   "source": [
    "### Synonyme augmentation"
   ]
  },
  {
   "cell_type": "code",
   "execution_count": 22,
   "metadata": {},
   "outputs": [
    {
     "name": "stdout",
     "output_type": "stream",
     "text": [
      "ORIGINAL TEXT:  The quick brown fox jumps over the lazy dog .\n",
      "\n",
      "\n",
      "AUGMENTED TEXT:  ['The quick brown university fox jumps all over the lazy dog.', 'The quick brown fox jump out over the lazy frump.', 'The quick robert brown fox jumps concluded the lazy dog.', 'The immediate brown fox jumps over the indolent dog.']\n"
     ]
    }
   ],
   "source": [
    "text = 'The quick brown fox jumps over the lazy dog .'\n",
    "\n",
    "syn_aug = naw.SynonymAug(aug_src='wordnet',aug_max=2) \n",
    "#aug_src (str) – Support ‘wordnet’ and ‘ppdb’ .\n",
    "#aug_max (entier) - Le nombre maximum de mots sera augmenté\n",
    "\n",
    "syn_aug_text = syn_aug.augment(text,n=4)\n",
    "print(\"ORIGINAL TEXT: \", text)\n",
    "print(\"\\n\")\n",
    "print(\"AUGMENTED TEXT: \",syn_aug_text)\n"
   ]
  },
  {
   "cell_type": "markdown",
   "metadata": {},
   "source": [
    "### BackTranslation"
   ]
  },
  {
   "cell_type": "code",
   "execution_count": 3,
   "metadata": {},
   "outputs": [
    {
     "name": "stdout",
     "output_type": "stream",
     "text": [
      "Collecting sacremoses\n",
      "  Downloading sacremoses-0.0.53.tar.gz (880 kB)\n",
      "     ------------------------------------ 880.6/880.6 kB 140.3 kB/s eta 0:00:00\n",
      "  Preparing metadata (setup.py): started\n",
      "  Preparing metadata (setup.py): finished with status 'done'\n",
      "Requirement already satisfied: regex in c:\\users\\samir\\anaconda3\\lib\\site-packages (from sacremoses) (2021.8.3)\n",
      "Requirement already satisfied: six in c:\\users\\samir\\anaconda3\\lib\\site-packages (from sacremoses) (1.16.0)\n",
      "Requirement already satisfied: click in c:\\users\\samir\\anaconda3\\lib\\site-packages (from sacremoses) (8.0.3)\n",
      "Requirement already satisfied: joblib in c:\\users\\samir\\anaconda3\\lib\\site-packages (from sacremoses) (1.1.0)\n",
      "Requirement already satisfied: tqdm in c:\\users\\samir\\anaconda3\\lib\\site-packages (from sacremoses) (4.62.3)\n",
      "Requirement already satisfied: colorama in c:\\users\\samir\\anaconda3\\lib\\site-packages (from click->sacremoses) (0.4.4)\n",
      "Building wheels for collected packages: sacremoses\n",
      "  Building wheel for sacremoses (setup.py): started\n",
      "  Building wheel for sacremoses (setup.py): finished with status 'done'\n",
      "  Created wheel for sacremoses: filename=sacremoses-0.0.53-py3-none-any.whl size=895241 sha256=d1dfe75f75e2e17525cf02753499c63ac60ab879404769f04ecf5c10e048d965\n",
      "  Stored in directory: c:\\users\\samir\\appdata\\local\\pip\\cache\\wheels\\12\\1c\\3d\\46cf06718d63a32ff798a89594b61e7f345ab6b36d909ce033\n",
      "Successfully built sacremoses\n",
      "Installing collected packages: sacremoses\n",
      "Successfully installed sacremoses-0.0.53\n",
      "Note: you may need to restart the kernel to use updated packages.\n"
     ]
    }
   ],
   "source": [
    "#pip install sacremoses\n",
    "#You need to install sacremoses to use XLMTokenizer"
   ]
  },
  {
   "cell_type": "code",
   "execution_count": 11,
   "metadata": {
    "scrolled": true
   },
   "outputs": [
    {
     "data": {
      "application/vnd.jupyter.widget-view+json": {
       "model_id": "6acc8961392743319c87b538d172d6a9",
       "version_major": 2,
       "version_minor": 0
      },
      "text/plain": [
       "Downloading tokenizer_config.json:   0%|          | 0.00/67.0 [00:00<?, ?B/s]"
      ]
     },
     "metadata": {},
     "output_type": "display_data"
    },
    {
     "data": {
      "application/vnd.jupyter.widget-view+json": {
       "model_id": "61502dccd4644a058e252a630498bce6",
       "version_major": 2,
       "version_minor": 0
      },
      "text/plain": [
       "Downloading vocab-src.json:   0%|          | 0.00/829k [00:00<?, ?B/s]"
      ]
     },
     "metadata": {},
     "output_type": "display_data"
    },
    {
     "data": {
      "application/vnd.jupyter.widget-view+json": {
       "model_id": "613a67afb654401f8d410dca3ea42571",
       "version_major": 2,
       "version_minor": 0
      },
      "text/plain": [
       "Downloading vocab-tgt.json:   0%|          | 0.00/829k [00:00<?, ?B/s]"
      ]
     },
     "metadata": {},
     "output_type": "display_data"
    },
    {
     "data": {
      "application/vnd.jupyter.widget-view+json": {
       "model_id": "69288da3a3d04455a6809b28ca2abb48",
       "version_major": 2,
       "version_minor": 0
      },
      "text/plain": [
       "Downloading merges.txt:   0%|          | 0.00/308k [00:00<?, ?B/s]"
      ]
     },
     "metadata": {},
     "output_type": "display_data"
    },
    {
     "name": "stdout",
     "output_type": "stream",
     "text": [
      "ORIGINAL TEXT:  The quick brown fox jumps over the lazy dog .\n",
      "AUGMENTED TEXT:  ['The speedy brown fox jumps over the lazy dog.']\n"
     ]
    }
   ],
   "source": [
    "aug = naw.BackTranslationAug()\n",
    "text = 'The quick brown fox jumps over the lazy dog .'\n",
    "\n",
    "print(\"ORIGINAL TEXT: \", text)\n",
    "print(\"AUGMENTED TEXT: \",aug.augment(text))"
   ]
  },
  {
   "cell_type": "markdown",
   "metadata": {},
   "source": [
    "### Abstractive Summary  (Résumé abstrait)"
   ]
  },
  {
   "cell_type": "code",
   "execution_count": 24,
   "metadata": {},
   "outputs": [
    {
     "name": "stdout",
     "output_type": "stream",
     "text": [
      "[' With the election fervour at its peak, a report by the Association for Democratic Reforms (ADR) revealed that assets of 78, that is, 77% of MLAs in the Punjab legislative assembly who are re-contesting in this year’s state elections, has seen a surge ranging from 2% to 2,954%.', 'The average asset growth, based on the analysis of their poll affidavits, of these 101 MLAs between the 2017 and 2022 assembly elections is ₹2.76 crore.', 'According to the report, Sukhbir Singh Badal of Shiromani Akali Dal (SAD) from the Jalalabad constituency has declared the maximum increase in assets, by ₹100 crore.', 'His assets increased from ₹102 crore in 2017 to ₹202 crore in 2022.', 'He is followed by Manpreet Singh Badal of the Indian National Congress whose assets increased by ₹32 crore, from ₹40 crore in 2017 to ₹72 crore in 2022.', 'However, assets of 21 MLAs have dropped from -2% to -74% in the last five years.', 'Among those are chief minister Charanjit Singh Channi, whose assets decreased from ₹14.51 crore in 2017 to ₹9.45 crore in 2022.', 'Punjab Congress president Navjot Singh Sidhu, too, saw a slight decrease in assets, from ₹45.9 crore in 2017 to ₹44.65 crore this year.']\n",
      "\n",
      "\n",
      "['a report by the association for democratic reforms (ADR) revealed that assets of 78, that is, 77% of MLAs in the Punjab legislative assembly who are re-contesting in this year’s state elections, has seen a surge ranging from 2% to 2,954%.', 'the average asset growth of these 101 MLAs between the 2017 and 2022 assembly elections is 2.76 crore.', 'Sukhbir Singh Badal of the Shiromani Akali Dal (SAD) from the Jalalabad constituency declared the maximum increase in assets, by 100 crore.', 'assets increased from 102 crore in 2017 to 202 crore in 2022.', 'he is followed by Manpreet Singh Badal of the Indian National Congress. his assets increased by 32 crore, from 40 crore in 2017 to 72 crore in 2022.', 'assets of 21 MLAs have dropped from -2% to -74% in the last five years.', 'among them is chief minister Charanjit Singh Channi. his assets decreased from 14.51 crore in 2017 to 9.45 crore in 2022.', 'Navjot Singh Sidhu sees a slight decrease in assets, from 45.9 crore in 2017 to 44.65 crore this year.']\n"
     ]
    }
   ],
   "source": [
    "##### import nltk\n",
    "\n",
    "aug = nas.AbstSummAug() \n",
    "# nas.AbstSummAug()  : Augmenter qui applique une opération (au niveau de la phrase) \n",
    "#à une entrée textuelle basée sur un résumé abstrait.\n",
    "\n",
    "paragraph = \"\"\" With the election fervour at its peak, a report by the Association for Democratic Reforms (ADR) revealed that assets of 78, that is, 77% of MLAs in the Punjab legislative assembly who are re-contesting in this year’s state elections, has seen a surge ranging from 2% to 2,954%. The average asset growth, based on the analysis of their poll affidavits, of these 101 MLAs between the 2017 and 2022 assembly elections is ₹2.76 crore.\n",
    "\n",
    "According to the report, Sukhbir Singh Badal of Shiromani Akali Dal (SAD) from the Jalalabad constituency has declared the maximum increase in assets, by ₹100 crore. His assets increased from ₹102 crore in 2017 to ₹202 crore in 2022. He is followed by Manpreet Singh Badal of the Indian National Congress whose assets increased by ₹32 crore, from ₹40 crore in 2017 to ₹72 crore in 2022.\n",
    "\n",
    "However, assets of 21 MLAs have dropped from -2% to -74% in the last five years. Among those are chief minister Charanjit Singh Channi, whose assets decreased from ₹14.51 crore in 2017 to ₹9.45 crore in 2022. Punjab Congress president Navjot Singh Sidhu, too, saw a slight decrease in assets, from ₹45.9 crore in 2017 to ₹44.65 crore this year.\n",
    "\"\"\"\n",
    "sent_list = nltk.sent_tokenize(paragraph)\n",
    "pred = aug.augment(sent_list)\n",
    "print(sent_list)\n",
    "print('\\n')\n",
    "print(pred)"
   ]
  },
  {
   "cell_type": "code",
   "execution_count": 9,
   "metadata": {},
   "outputs": [
    {
     "name": "stdout",
     "output_type": "stream",
     "text": [
      "^C\n",
      "\n",
      "Note: you may need to restart the kernel to use updated packages.\n"
     ]
    }
   ],
   "source": []
  },
  {
   "cell_type": "code",
   "execution_count": 13,
   "metadata": {},
   "outputs": [
    {
     "name": "stdout",
     "output_type": "stream",
     "text": [
      "AUGMENTED TEXT:  [\"A report by the Association for Democratic Reform (ADR) found that the assets of 78, or 77% of the Punjab legislature's MLAs running again in this year's parliamentary elections, have risen between 2% and 2,954%.\", 'The average wealth growth of these 101 MLAs between the 2017 and 2022 parliamentary elections is 2.76 crore.', 'Sukhbir Singh Badal of the Shiromani Akali Dal (SAD) from the Jalalabad constituency explained the maximum increase in assets by 100 crore.', 'Assets rose from 102 crore in 2017 to 202 crore in 2022.', 'He is succeeded by Manpreet Singh Badal of the Indian National Congress, whose wealth has increased by 32 crore, from 40 crore in 2017 to 72 crore in 2022.', 'The assets of 21 MLAs have fallen from -2% to -74% in the last five years.', 'Among them is Prime Minister Charanjit Singh Chan, whose wealth has fallen from $14.51 billion in 2017 to $9.45 billion in 2022.', 'Navjot Singh Sidhu sees a slight decline in assets, from 45.9 crore in 2017 to 44.65 crore this year.']\n"
     ]
    }
   ],
   "source": [
    "aug = naw.BackTranslationAug()\n",
    "print(\"AUGMENTED TEXT: \",aug.augment(pred))\n"
   ]
  },
  {
   "cell_type": "code",
   "execution_count": null,
   "metadata": {},
   "outputs": [],
   "source": []
  }
 ],
 "metadata": {
  "interpreter": {
   "hash": "e1708682e3b52fa9e77073f57515ae6e20c8173c0d4bedb759ef7edcc40ac8f5"
  },
  "kernelspec": {
   "display_name": "Python 3 (ipykernel)",
   "language": "python",
   "name": "python3"
  },
  "language_info": {
   "codemirror_mode": {
    "name": "ipython",
    "version": 3
   },
   "file_extension": ".py",
   "mimetype": "text/x-python",
   "name": "python",
   "nbconvert_exporter": "python",
   "pygments_lexer": "ipython3",
   "version": "3.9.7"
  }
 },
 "nbformat": 4,
 "nbformat_minor": 2
}
