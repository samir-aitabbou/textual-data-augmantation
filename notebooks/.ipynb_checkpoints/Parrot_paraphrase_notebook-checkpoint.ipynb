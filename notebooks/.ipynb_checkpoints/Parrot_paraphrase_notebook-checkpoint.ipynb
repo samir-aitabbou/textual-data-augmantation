{
 "cells": [
  {
   "cell_type": "markdown",
   "metadata": {},
   "source": [
    "# Parrot Paraphrase\n",
    "Parrot est un framework d'augmentation d'énoncés basé sur des paraphrases (إعادة الصياغة) spécialement conçu pour accélérer la formation de modèles NLU. Un cadre de paraphrase est plus qu'un simple modèle de paraphrase."
   ]
  },
  {
   "cell_type": "code",
   "execution_count": 2,
   "metadata": {},
   "outputs": [
    {
     "name": "stdout",
     "output_type": "stream",
     "text": [
      "Collecting git+https://github.com/PrithivirajDamodaran/Parrot.git\n",
      "  Cloning https://github.com/PrithivirajDamodaran/Parrot.git to c:\\users\\samir\\appdata\\local\\temp\\pip-req-build-wfmz8k_i\n",
      "  Resolved https://github.com/PrithivirajDamodaran/Parrot.git to commit 2cffbe911341e52dc73b77f9b0154c18d570603f\n",
      "  Preparing metadata (setup.py): started\n",
      "  Preparing metadata (setup.py): finished with status 'done'\n",
      "Requirement already satisfied: transformers in c:\\users\\samir\\anaconda3\\lib\\site-packages (from parrot==1.0) (4.21.1)\n",
      "Requirement already satisfied: sentencepiece in c:\\users\\samir\\anaconda3\\lib\\site-packages (from parrot==1.0) (0.1.95)\n",
      "Collecting python-Levenshtein\n",
      "  Downloading python-Levenshtein-0.12.2.tar.gz (50 kB)\n",
      "     -------------------------------------- 50.5/50.5 kB 649.4 kB/s eta 0:00:00\n",
      "  Preparing metadata (setup.py): started\n",
      "  Preparing metadata (setup.py): finished with status 'done'\n",
      "Collecting sentence-transformers\n",
      "  Downloading sentence-transformers-2.2.2.tar.gz (85 kB)\n",
      "     ---------------------------------------- 86.0/86.0 kB 2.4 MB/s eta 0:00:00\n",
      "  Preparing metadata (setup.py): started\n",
      "  Preparing metadata (setup.py): finished with status 'done'\n",
      "Collecting fuzzywuzzy\n",
      "  Downloading fuzzywuzzy-0.18.0-py2.py3-none-any.whl (18 kB)\n",
      "Requirement already satisfied: setuptools in c:\\users\\samir\\anaconda3\\lib\\site-packages (from python-Levenshtein->parrot==1.0) (65.0.0)\n",
      "Requirement already satisfied: tqdm in c:\\users\\samir\\anaconda3\\lib\\site-packages (from sentence-transformers->parrot==1.0) (4.62.3)\n",
      "Requirement already satisfied: torch>=1.6.0 in c:\\users\\samir\\anaconda3\\lib\\site-packages (from sentence-transformers->parrot==1.0) (1.12.1)\n",
      "Collecting torchvision\n",
      "  Downloading torchvision-0.13.1-cp39-cp39-win_amd64.whl (1.1 MB)\n",
      "     ---------------------------------------- 1.1/1.1 MB 6.1 MB/s eta 0:00:00\n",
      "Requirement already satisfied: numpy in c:\\users\\samir\\anaconda3\\lib\\site-packages (from sentence-transformers->parrot==1.0) (1.22.4)\n",
      "Requirement already satisfied: scikit-learn in c:\\users\\samir\\anaconda3\\lib\\site-packages (from sentence-transformers->parrot==1.0) (0.24.2)"
     ]
    },
    {
     "name": "stderr",
     "output_type": "stream",
     "text": [
      "  Running command git clone --filter=blob:none --quiet https://github.com/PrithivirajDamodaran/Parrot.git 'C:\\Users\\samir\\AppData\\Local\\Temp\\pip-req-build-wfmz8k_i'\n"
     ]
    },
    {
     "name": "stdout",
     "output_type": "stream",
     "text": [
      "\n",
      "Requirement already satisfied: scipy in c:\\users\\samir\\anaconda3\\lib\\site-packages (from sentence-transformers->parrot==1.0) (1.7.1)\n",
      "Requirement already satisfied: nltk in c:\\users\\samir\\anaconda3\\lib\\site-packages (from sentence-transformers->parrot==1.0) (3.6.5)\n",
      "Requirement already satisfied: huggingface-hub>=0.4.0 in c:\\users\\samir\\anaconda3\\lib\\site-packages (from sentence-transformers->parrot==1.0) (0.8.1)\n",
      "Requirement already satisfied: requests in c:\\users\\samir\\anaconda3\\lib\\site-packages (from transformers->parrot==1.0) (2.26.0)\n",
      "Requirement already satisfied: regex!=2019.12.17 in c:\\users\\samir\\anaconda3\\lib\\site-packages (from transformers->parrot==1.0) (2021.8.3)\n",
      "Requirement already satisfied: pyyaml>=5.1 in c:\\users\\samir\\anaconda3\\lib\\site-packages (from transformers->parrot==1.0) (6.0)\n",
      "Requirement already satisfied: packaging>=20.0 in c:\\users\\samir\\anaconda3\\lib\\site-packages (from transformers->parrot==1.0) (21.0)\n",
      "Requirement already satisfied: filelock in c:\\users\\samir\\anaconda3\\lib\\site-packages (from transformers->parrot==1.0) (3.3.1)\n",
      "Requirement already satisfied: tokenizers!=0.11.3,<0.13,>=0.11.1 in c:\\users\\samir\\anaconda3\\lib\\site-packages (from transformers->parrot==1.0) (0.12.1)\n",
      "Requirement already satisfied: typing-extensions>=3.7.4.3 in c:\\users\\samir\\anaconda3\\lib\\site-packages (from huggingface-hub>=0.4.0->sentence-transformers->parrot==1.0) (3.10.0.2)\n",
      "Requirement already satisfied: pyparsing>=2.0.2 in c:\\users\\samir\\anaconda3\\lib\\site-packages (from packaging>=20.0->transformers->parrot==1.0) (3.0.4)\n",
      "Requirement already satisfied: colorama in c:\\users\\samir\\anaconda3\\lib\\site-packages (from tqdm->sentence-transformers->parrot==1.0) (0.4.4)\n",
      "Requirement already satisfied: click in c:\\users\\samir\\anaconda3\\lib\\site-packages (from nltk->sentence-transformers->parrot==1.0) (8.0.3)\n",
      "Requirement already satisfied: joblib in c:\\users\\samir\\anaconda3\\lib\\site-packages (from nltk->sentence-transformers->parrot==1.0) (1.1.0)\n",
      "Requirement already satisfied: certifi>=2017.4.17 in c:\\users\\samir\\anaconda3\\lib\\site-packages (from requests->transformers->parrot==1.0) (2021.10.8)\n",
      "Requirement already satisfied: idna<4,>=2.5 in c:\\users\\samir\\anaconda3\\lib\\site-packages (from requests->transformers->parrot==1.0) (2.10)\n",
      "Requirement already satisfied: urllib3<1.27,>=1.21.1 in c:\\users\\samir\\anaconda3\\lib\\site-packages (from requests->transformers->parrot==1.0) (1.26.7)\n",
      "Requirement already satisfied: charset-normalizer~=2.0.0 in c:\\users\\samir\\anaconda3\\lib\\site-packages (from requests->transformers->parrot==1.0) (2.0.4)\n",
      "Requirement already satisfied: threadpoolctl>=2.0.0 in c:\\users\\samir\\anaconda3\\lib\\site-packages (from scikit-learn->sentence-transformers->parrot==1.0) (2.2.0)\n",
      "Requirement already satisfied: pillow!=8.3.*,>=5.3.0 in c:\\users\\samir\\anaconda3\\lib\\site-packages (from torchvision->sentence-transformers->parrot==1.0) (8.4.0)\n",
      "Building wheels for collected packages: parrot, python-Levenshtein, sentence-transformers\n",
      "  Building wheel for parrot (setup.py): started\n",
      "  Building wheel for parrot (setup.py): finished with status 'done'\n",
      "  Created wheel for parrot: filename=parrot-1.0-py3-none-any.whl size=8617 sha256=339de1c8aa68558f4cbb4565efa6464a62da15b29e89490fc892173be63e196f\n",
      "  Stored in directory: C:\\Users\\samir\\AppData\\Local\\Temp\\pip-ephem-wheel-cache-vpnvs3xi\\wheels\\54\\04\\dd\\818858d473b5b958f9cc1e510220a32bd3d654ab16abfa2638\n",
      "  Building wheel for python-Levenshtein (setup.py): started\n",
      "  Building wheel for python-Levenshtein (setup.py): finished with status 'done'\n",
      "  Created wheel for python-Levenshtein: filename=python_Levenshtein-0.12.2-cp39-cp39-win_amd64.whl size=81160 sha256=171639a00338a82c04796c561b990ad670599dc0ef9141a66808fbdbc682abce\n",
      "  Stored in directory: c:\\users\\samir\\appdata\\local\\pip\\cache\\wheels\\46\\4a\\6c\\164a1d9dd67c82d208f19d869ad0a517a0c5a6117f608c53e6\n",
      "  Building wheel for sentence-transformers (setup.py): started\n",
      "  Building wheel for sentence-transformers (setup.py): finished with status 'done'\n",
      "  Created wheel for sentence-transformers: filename=sentence_transformers-2.2.2-py3-none-any.whl size=125926 sha256=6d8415f5320d195c46db33e327a9361c1ace7c52742cbc4ef99ea3039a763840\n",
      "  Stored in directory: c:\\users\\samir\\appdata\\local\\pip\\cache\\wheels\\71\\67\\06\\162a3760c40d74dd40bc855d527008d26341c2b0ecf3e8e11f\n",
      "Successfully built parrot python-Levenshtein sentence-transformers\n",
      "Installing collected packages: fuzzywuzzy, python-Levenshtein, torchvision, sentence-transformers, parrot\n",
      "Successfully installed fuzzywuzzy-0.18.0 parrot-1.0 python-Levenshtein-0.12.2 sentence-transformers-2.2.2 torchvision-0.13.1\n"
     ]
    }
   ],
   "source": [
    "! pip install git+https://github.com/PrithivirajDamodaran/Parrot.git"
   ]
  },
  {
   "cell_type": "code",
   "execution_count": 3,
   "metadata": {},
   "outputs": [],
   "source": [
    "\n",
    "import warnings\n",
    "\n",
    "import torch\n",
    "from parrot import Parrot\n",
    "\n",
    "warnings.filterwarnings(\"ignore\")\n",
    "\n",
    "#TORCH est une bibliothèque d'apprentissage automatique open source, \n",
    "#elle fournit une large gamme d'algorithmes pour l'apprentissage en profondeur\n"
   ]
  },
  {
   "cell_type": "code",
   "execution_count": 4,
   "metadata": {},
   "outputs": [],
   "source": [
    "torch_device = 'cuda' if torch.cuda.is_available() else 'cpu'\n",
    "#Le modèle de programmation CUDA permet de faire évoluer le logiciel de manière transparente \n",
    "#avec un nombre croissant de cœurs de processeur dans les GPU\n"
   ]
  },
  {
   "cell_type": "code",
   "execution_count": 5,
   "metadata": {},
   "outputs": [
    {
     "data": {
      "application/vnd.jupyter.widget-view+json": {
       "model_id": "94c8464249a14fa1aa91f11f5c84b80d",
       "version_major": 2,
       "version_minor": 0
      },
      "text/plain": [
       "Downloading tokenizer_config.json:   0%|          | 0.00/1.84k [00:00<?, ?B/s]"
      ]
     },
     "metadata": {},
     "output_type": "display_data"
    },
    {
     "data": {
      "application/vnd.jupyter.widget-view+json": {
       "model_id": "c7ca33e8b42c401680bf59c304965433",
       "version_major": 2,
       "version_minor": 0
      },
      "text/plain": [
       "Downloading config.json:   0%|          | 0.00/1.34k [00:00<?, ?B/s]"
      ]
     },
     "metadata": {},
     "output_type": "display_data"
    },
    {
     "data": {
      "application/vnd.jupyter.widget-view+json": {
       "model_id": "c068f7be10a04f2d9dcfaabcdb701619",
       "version_major": 2,
       "version_minor": 0
      },
      "text/plain": [
       "Downloading spiece.model:   0%|          | 0.00/773k [00:00<?, ?B/s]"
      ]
     },
     "metadata": {},
     "output_type": "display_data"
    },
    {
     "data": {
      "application/vnd.jupyter.widget-view+json": {
       "model_id": "6259183396114d69bf341b7e08243c7e",
       "version_major": 2,
       "version_minor": 0
      },
      "text/plain": [
       "Downloading special_tokens_map.json:   0%|          | 0.00/1.74k [00:00<?, ?B/s]"
      ]
     },
     "metadata": {},
     "output_type": "display_data"
    },
    {
     "data": {
      "application/vnd.jupyter.widget-view+json": {
       "model_id": "17a27e00cce44d28be8dc360b6a0cf5a",
       "version_major": 2,
       "version_minor": 0
      },
      "text/plain": [
       "Downloading pytorch_model.bin:   0%|          | 0.00/850M [00:00<?, ?B/s]"
      ]
     },
     "metadata": {},
     "output_type": "display_data"
    },
    {
     "data": {
      "application/vnd.jupyter.widget-view+json": {
       "model_id": "c6ff160ae9354955ac7a3979d57a1f81",
       "version_major": 2,
       "version_minor": 0
      },
      "text/plain": [
       "Downloading config.json:   0%|          | 0.00/913 [00:00<?, ?B/s]"
      ]
     },
     "metadata": {},
     "output_type": "display_data"
    },
    {
     "data": {
      "application/vnd.jupyter.widget-view+json": {
       "model_id": "6c8f21fb685041b6961ebecbebc4c1b5",
       "version_major": 2,
       "version_minor": 0
      },
      "text/plain": [
       "Downloading pytorch_model.bin:   0%|          | 0.00/1.32G [00:00<?, ?B/s]"
      ]
     },
     "metadata": {},
     "output_type": "display_data"
    },
    {
     "data": {
      "application/vnd.jupyter.widget-view+json": {
       "model_id": "f2a62afec1624966ad0e88c9e36e8862",
       "version_major": 2,
       "version_minor": 0
      },
      "text/plain": [
       "Downloading vocab.json:   0%|          | 0.00/878k [00:00<?, ?B/s]"
      ]
     },
     "metadata": {},
     "output_type": "display_data"
    },
    {
     "data": {
      "application/vnd.jupyter.widget-view+json": {
       "model_id": "a7291a80af354d5fa28afbb065a2b403",
       "version_major": 2,
       "version_minor": 0
      },
      "text/plain": [
       "Downloading merges.txt:   0%|          | 0.00/446k [00:00<?, ?B/s]"
      ]
     },
     "metadata": {},
     "output_type": "display_data"
    },
    {
     "data": {
      "application/vnd.jupyter.widget-view+json": {
       "model_id": "9ac265a8029c4ada868dbe399ee450ea",
       "version_major": 2,
       "version_minor": 0
      },
      "text/plain": [
       "Downloading tokenizer.json:   0%|          | 0.00/1.29M [00:00<?, ?B/s]"
      ]
     },
     "metadata": {},
     "output_type": "display_data"
    },
    {
     "data": {
      "application/vnd.jupyter.widget-view+json": {
       "model_id": "fb44faf8653a477cb011cdef96b184aa",
       "version_major": 2,
       "version_minor": 0
      },
      "text/plain": [
       "Downloading special_tokens_map.json:   0%|          | 0.00/772 [00:00<?, ?B/s]"
      ]
     },
     "metadata": {},
     "output_type": "display_data"
    },
    {
     "data": {
      "application/vnd.jupyter.widget-view+json": {
       "model_id": "8e400a8d69144263903cd346866450ca",
       "version_major": 2,
       "version_minor": 0
      },
      "text/plain": [
       "Downloading config.json:   0%|          | 0.00/476 [00:00<?, ?B/s]"
      ]
     },
     "metadata": {},
     "output_type": "display_data"
    },
    {
     "data": {
      "application/vnd.jupyter.widget-view+json": {
       "model_id": "54fbc95e3863403498ad2b4c1bd56278",
       "version_major": 2,
       "version_minor": 0
      },
      "text/plain": [
       "Downloading pytorch_model.bin:   0%|          | 0.00/418M [00:00<?, ?B/s]"
      ]
     },
     "metadata": {},
     "output_type": "display_data"
    },
    {
     "data": {
      "application/vnd.jupyter.widget-view+json": {
       "model_id": "b01580ff268e45b9a26cde9279aebe1d",
       "version_major": 2,
       "version_minor": 0
      },
      "text/plain": [
       "Downloading tokenizer_config.json:   0%|          | 0.00/48.0 [00:00<?, ?B/s]"
      ]
     },
     "metadata": {},
     "output_type": "display_data"
    },
    {
     "data": {
      "application/vnd.jupyter.widget-view+json": {
       "model_id": "d942ae3137ab4177a9c7af29ab5124d3",
       "version_major": 2,
       "version_minor": 0
      },
      "text/plain": [
       "Downloading vocab.txt:   0%|          | 0.00/226k [00:00<?, ?B/s]"
      ]
     },
     "metadata": {},
     "output_type": "display_data"
    },
    {
     "data": {
      "application/vnd.jupyter.widget-view+json": {
       "model_id": "4ada5c41a9d9490093bb4539df6b53fb",
       "version_major": 2,
       "version_minor": 0
      },
      "text/plain": [
       "Downloading special_tokens_map.json:   0%|          | 0.00/112 [00:00<?, ?B/s]"
      ]
     },
     "metadata": {},
     "output_type": "display_data"
    },
    {
     "data": {
      "application/vnd.jupyter.widget-view+json": {
       "model_id": "0c87e7c8bfa34c0cb83a22ff4fef1ee8",
       "version_major": 2,
       "version_minor": 0
      },
      "text/plain": [
       "Downloading:   0%|          | 0.00/736 [00:00<?, ?B/s]"
      ]
     },
     "metadata": {},
     "output_type": "display_data"
    },
    {
     "data": {
      "application/vnd.jupyter.widget-view+json": {
       "model_id": "5797eb715b544035a1f834bfca211a46",
       "version_major": 2,
       "version_minor": 0
      },
      "text/plain": [
       "Downloading:   0%|          | 0.00/190 [00:00<?, ?B/s]"
      ]
     },
     "metadata": {},
     "output_type": "display_data"
    },
    {
     "data": {
      "application/vnd.jupyter.widget-view+json": {
       "model_id": "8aa986aba877433496b85289dfdcda0f",
       "version_major": 2,
       "version_minor": 0
      },
      "text/plain": [
       "Downloading:   0%|          | 0.00/3.74k [00:00<?, ?B/s]"
      ]
     },
     "metadata": {},
     "output_type": "display_data"
    },
    {
     "data": {
      "application/vnd.jupyter.widget-view+json": {
       "model_id": "fdadfe219fe84d69a9d2471426c6061c",
       "version_major": 2,
       "version_minor": 0
      },
      "text/plain": [
       "Downloading:   0%|          | 0.00/686 [00:00<?, ?B/s]"
      ]
     },
     "metadata": {},
     "output_type": "display_data"
    },
    {
     "data": {
      "application/vnd.jupyter.widget-view+json": {
       "model_id": "2c74db1f9e3a485db5c94955d96737f7",
       "version_major": 2,
       "version_minor": 0
      },
      "text/plain": [
       "Downloading:   0%|          | 0.00/122 [00:00<?, ?B/s]"
      ]
     },
     "metadata": {},
     "output_type": "display_data"
    },
    {
     "data": {
      "application/vnd.jupyter.widget-view+json": {
       "model_id": "a4cf66b9463545398ae1b340145e154e",
       "version_major": 2,
       "version_minor": 0
      },
      "text/plain": [
       "Downloading:   0%|          | 0.00/456k [00:00<?, ?B/s]"
      ]
     },
     "metadata": {},
     "output_type": "display_data"
    },
    {
     "data": {
      "application/vnd.jupyter.widget-view+json": {
       "model_id": "dd7332a5667d462c94b80d62fcd5e58a",
       "version_major": 2,
       "version_minor": 0
      },
      "text/plain": [
       "Downloading:   0%|          | 0.00/329M [00:00<?, ?B/s]"
      ]
     },
     "metadata": {},
     "output_type": "display_data"
    },
    {
     "data": {
      "application/vnd.jupyter.widget-view+json": {
       "model_id": "974d6418eb2c4c5e94d10df8cfc59de3",
       "version_major": 2,
       "version_minor": 0
      },
      "text/plain": [
       "Downloading:   0%|          | 0.00/53.0 [00:00<?, ?B/s]"
      ]
     },
     "metadata": {},
     "output_type": "display_data"
    },
    {
     "data": {
      "application/vnd.jupyter.widget-view+json": {
       "model_id": "661b55177f234e2d8db134a2f0301fb5",
       "version_major": 2,
       "version_minor": 0
      },
      "text/plain": [
       "Downloading:   0%|          | 0.00/239 [00:00<?, ?B/s]"
      ]
     },
     "metadata": {},
     "output_type": "display_data"
    },
    {
     "data": {
      "application/vnd.jupyter.widget-view+json": {
       "model_id": "33684491f80a4bdfbc7e64442ae833bf",
       "version_major": 2,
       "version_minor": 0
      },
      "text/plain": [
       "Downloading:   0%|          | 0.00/1.36M [00:00<?, ?B/s]"
      ]
     },
     "metadata": {},
     "output_type": "display_data"
    },
    {
     "data": {
      "application/vnd.jupyter.widget-view+json": {
       "model_id": "84ff0ee0773d4ec9b96113e244b45eb0",
       "version_major": 2,
       "version_minor": 0
      },
      "text/plain": [
       "Downloading:   0%|          | 0.00/1.12k [00:00<?, ?B/s]"
      ]
     },
     "metadata": {},
     "output_type": "display_data"
    },
    {
     "data": {
      "application/vnd.jupyter.widget-view+json": {
       "model_id": "c8cce8fe33214fb6b6aad17aea7e5e80",
       "version_major": 2,
       "version_minor": 0
      },
      "text/plain": [
       "Downloading:   0%|          | 0.00/798k [00:00<?, ?B/s]"
      ]
     },
     "metadata": {},
     "output_type": "display_data"
    },
    {
     "data": {
      "application/vnd.jupyter.widget-view+json": {
       "model_id": "345f4d69e2fe4b289aa3ff024ff2a5fb",
       "version_major": 2,
       "version_minor": 0
      },
      "text/plain": [
       "Downloading:   0%|          | 0.00/229 [00:00<?, ?B/s]"
      ]
     },
     "metadata": {},
     "output_type": "display_data"
    }
   ],
   "source": [
    "PARROT_PRETRAINED_MODEL = \"prithivida/parrot_paraphraser_on_T5\"\n",
    "parrot_model = Parrot(model_tag=PARROT_PRETRAINED_MODEL)"
   ]
  },
  {
   "cell_type": "code",
   "execution_count": 7,
   "metadata": {},
   "outputs": [
    {
     "name": "stdout",
     "output_type": "stream",
     "text": [
      "('list some good restaurants in new york city?', 40)\n",
      "('what is a good upscale restaurant in newyork?', 26)\n",
      "('can you recommend some elegant restaurants in new york?', 20)\n",
      "('can you recommend some upscale restaurants in new york?', 14)\n",
      "('can you recommend some upscale restaurants in newyork?', 13)\n"
     ]
    }
   ],
   "source": [
    "\n",
    "PHRASE = \"Can you recommed some upscale restaurants in Newyork?\"\n",
    "para_phrases = parrot_model.augment(input_phrase=PHRASE, use_gpu=False)\n",
    "for para_phrase in para_phrases:\n",
    "    print(para_phrase)\n"
   ]
  },
  {
   "cell_type": "code",
   "execution_count": 8,
   "metadata": {},
   "outputs": [
    {
     "name": "stdout",
     "output_type": "stream",
     "text": [
      "('the brown swift fox jumps over the lazy dog', 23)\n",
      "('the brown fox jumps over the lazy dog', 19)\n",
      "('the swift brown fox jumps over the lazy dog', 17)\n"
     ]
    }
   ],
   "source": [
    "\n",
    "PHRASE = \"The quick brown fox jumps over the lazy dog.\"\n",
    "para_phrases = parrot_model.augment(input_phrase=PHRASE, use_gpu=False)\n",
    "for para_phrase in para_phrases:\n",
    "    print(para_phrase)\n"
   ]
  },
  {
   "cell_type": "markdown",
   "metadata": {},
   "source": []
  },
  {
   "cell_type": "code",
   "execution_count": null,
   "metadata": {},
   "outputs": [],
   "source": []
  }
 ],
 "metadata": {
  "interpreter": {
   "hash": "85ab11090a32b58d1dba88bd22dc30d9d16814845c03675a7b99eed0df35fc67"
  },
  "kernelspec": {
   "display_name": "Python 3 (ipykernel)",
   "language": "python",
   "name": "python3"
  },
  "language_info": {
   "codemirror_mode": {
    "name": "ipython",
    "version": 3
   },
   "file_extension": ".py",
   "mimetype": "text/x-python",
   "name": "python",
   "nbconvert_exporter": "python",
   "pygments_lexer": "ipython3",
   "version": "3.9.7"
  }
 },
 "nbformat": 4,
 "nbformat_minor": 2
}
